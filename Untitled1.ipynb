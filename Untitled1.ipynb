{
 "cells": [
  {
   "cell_type": "code",
   "execution_count": 1,
   "metadata": {},
   "outputs": [
    {
     "name": "stdout",
     "output_type": "stream",
     "text": [
      "             CRIM         ZN       INDUS         CHAS         NOX          RM  \\\n",
      "count  506.000000  506.000000  506.000000  506.000000  506.000000  506.000000   \n",
      "mean     3.613524   11.363636   11.136779    0.069170    0.554695    6.284634   \n",
      "std      8.601545   23.322453    6.860353    0.253994    0.115878    0.702617   \n",
      "min      0.006320    0.000000    0.460000    0.000000    0.385000    3.561000   \n",
      "25%      0.082045    0.000000    5.190000    0.000000    0.449000    5.885500   \n",
      "50%      0.256510    0.000000    9.690000    0.000000    0.538000    6.208500   \n",
      "75%      3.677082   12.500000   18.100000    0.000000    0.624000    6.623500   \n",
      "max     88.976200  100.000000   27.740000    1.000000    0.871000    8.780000   \n",
      "\n",
      "              AGE         DIS         RAD         TAX     PTRATIO       LSTAT  \\\n",
      "count  506.000000  506.000000  506.000000  506.000000  506.000000  506.000000   \n",
      "mean    68.574901    3.795043    9.549407  408.237154   18.455534   12.653063   \n",
      "std     28.148861    2.105710    8.707259  168.537116    2.164946    7.141062   \n",
      "min      2.900000    1.129600    1.000000  187.000000   12.600000    1.730000   \n",
      "25%     45.025000    2.100175    4.000000  279.000000   17.400000    6.950000   \n",
      "50%     77.500000    3.207450    5.000000  330.000000   19.050000   11.360000   \n",
      "75%     94.075000    5.188425   24.000000  666.000000   20.200000   16.955000   \n",
      "max    100.000000   12.126500   24.000000  711.000000   22.000000   37.970000   \n",
      "\n",
      "             MEDV  \n",
      "count  506.000000  \n",
      "mean    22.532806  \n",
      "std      9.197104  \n",
      "min      5.000000  \n",
      "25%     17.025000  \n",
      "50%     21.200000  \n",
      "75%     25.000000  \n",
      "max     50.000000  \n",
      "(506, 13)\n",
      "[[6.3200e-03 1.8000e+01 2.3100e+00 ... 1.5300e+01 4.9800e+00 2.4000e+01]\n",
      " [2.7310e-02 0.0000e+00 7.0700e+00 ... 1.7800e+01 9.1400e+00 2.1600e+01]\n",
      " [2.7290e-02 0.0000e+00 7.0700e+00 ... 1.7800e+01 4.0300e+00 3.4700e+01]\n",
      " ...\n",
      " [6.0760e-02 0.0000e+00 1.1930e+01 ... 2.1000e+01 5.6400e+00 2.3900e+01]\n",
      " [1.0959e-01 0.0000e+00 1.1930e+01 ... 2.1000e+01 6.4800e+00 2.2000e+01]\n",
      " [4.7410e-02 0.0000e+00 1.1930e+01 ... 2.1000e+01 7.8800e+00 1.1900e+01]]\n",
      "x_data shape= (506, 12)\n",
      "y_data shape= (506,)\n",
      "<tf.Variable 'Variable:0' shape=(12, 1) dtype=float32, numpy=\n",
      "array([[-0.10301331],\n",
      "       [ 0.8166251 ],\n",
      "       [-0.21651728],\n",
      "       [ 1.422096  ],\n",
      "       [ 1.0696173 ],\n",
      "       [-0.5417704 ],\n",
      "       [ 0.33639416],\n",
      "       [ 0.23041153],\n",
      "       [-0.76735944],\n",
      "       [ 1.4350187 ],\n",
      "       [ 0.7147224 ],\n",
      "       [ 0.91001815]], dtype=float32)>\n",
      "<tf.Variable 'Variable:0' shape=(1,) dtype=float32, numpy=array([0.], dtype=float32)>\n",
      "epoch=  1 ,train_loss=658.9584,valid_loss=463.5150\n",
      "epoch=  2 ,train_loss=592.6592,valid_loss=409.9847\n",
      "epoch=  3 ,train_loss=535.4265,valid_loss=365.2481\n",
      "epoch=  4 ,train_loss=485.4539,valid_loss=327.2218\n",
      "epoch=  5 ,train_loss=441.5134,valid_loss=294.5628\n",
      "epoch=  6 ,train_loss=402.7164,valid_loss=266.3533\n",
      "epoch=  7 ,train_loss=368.3811,valid_loss=241.9252\n",
      "epoch=  8 ,train_loss=337.9573,valid_loss=220.7627\n",
      "epoch=  9 ,train_loss=310.9849,valid_loss=202.4476\n",
      "epoch= 10 ,train_loss=287.0685,valid_loss=186.6279\n",
      "epoch= 11 ,train_loss=265.8626,valid_loss=173.0007\n",
      "epoch= 12 ,train_loss=247.0631,valid_loss=161.3009\n",
      "epoch= 13 ,train_loss=230.4002,valid_loss=151.2945\n",
      "epoch= 14 ,train_loss=215.6342,valid_loss=142.7745\n",
      "epoch= 15 ,train_loss=202.5518,valid_loss=135.5572\n",
      "epoch= 16 ,train_loss=190.9632,valid_loss=129.4794\n",
      "epoch= 17 ,train_loss=180.6996,valid_loss=124.3964\n",
      "epoch= 18 ,train_loss=171.6108,valid_loss=120.1804\n",
      "epoch= 19 ,train_loss=163.5632,valid_loss=116.7178\n",
      "epoch= 20 ,train_loss=156.4385,valid_loss=113.9089\n",
      "epoch= 21 ,train_loss=150.1313,valid_loss=111.6653\n",
      "epoch= 22 ,train_loss=144.5484,valid_loss=109.9094\n",
      "epoch= 23 ,train_loss=139.6071,valid_loss=108.5731\n",
      "epoch= 24 ,train_loss=135.2338,valid_loss=107.5964\n",
      "epoch= 25 ,train_loss=131.3636,valid_loss=106.9270\n",
      "epoch= 26 ,train_loss=127.9388,valid_loss=106.5188\n",
      "epoch= 27 ,train_loss=124.9083,valid_loss=106.3317\n",
      "epoch= 28 ,train_loss=122.2270,valid_loss=106.3309\n",
      "epoch= 29 ,train_loss=119.8548,valid_loss=106.4858\n",
      "epoch= 30 ,train_loss=117.7562,valid_loss=106.7700\n",
      "epoch= 31 ,train_loss=115.8998,valid_loss=107.1605\n",
      "epoch= 32 ,train_loss=114.2578,valid_loss=107.6375\n",
      "epoch= 33 ,train_loss=112.8056,valid_loss=108.1837\n",
      "epoch= 34 ,train_loss=111.5215,valid_loss=108.7845\n",
      "epoch= 35 ,train_loss=110.3861,valid_loss=109.4271\n",
      "epoch= 36 ,train_loss=109.3824,valid_loss=110.1006\n",
      "epoch= 37 ,train_loss=108.4953,valid_loss=110.7958\n",
      "epoch= 38 ,train_loss=107.7112,valid_loss=111.5048\n",
      "epoch= 39 ,train_loss=107.0186,valid_loss=112.2208\n",
      "epoch= 40 ,train_loss=106.4068,valid_loss=112.9384\n",
      "epoch= 41 ,train_loss=105.8666,valid_loss=113.6527\n",
      "epoch= 42 ,train_loss=105.3897,valid_loss=114.3600\n",
      "epoch= 43 ,train_loss=104.9690,valid_loss=115.0570\n",
      "epoch= 44 ,train_loss=104.5979,valid_loss=115.7410\n",
      "epoch= 45 ,train_loss=104.2707,valid_loss=116.4100\n",
      "epoch= 46 ,train_loss=103.9825,valid_loss=117.0624\n",
      "epoch= 47 ,train_loss=103.7287,valid_loss=117.6969\n",
      "epoch= 48 ,train_loss=103.5054,valid_loss=118.3125\n",
      "epoch= 49 ,train_loss=103.3091,valid_loss=118.9086\n",
      "epoch= 50 ,train_loss=103.1368,valid_loss=119.4848\n"
     ]
    }
   ],
   "source": [
    "import tensorflow as tf\n",
    "import numpy as np\n",
    "import matplotlib.pyplot as plt\n",
    "\n",
    "%matplotlib inline\n",
    "\n",
    "import pandas as pd\n",
    "from sklearn.utils import shuffle\n",
    "from sklearn.preprocessing import scale\n",
    "\n",
    "df = pd.read_csv(\"C:/Users/SSL98/Desktop/神经网络和深度学习作业文件/第七周作业/data/boston.csv\",header=0)\n",
    "print(df.describe())\n",
    "\n",
    "ds=df.values\n",
    "print(ds.shape)\n",
    "print(ds)\n",
    "df.head(3)\n",
    "df.tail(3)\n",
    "\n",
    "#x_data 为归一化后的前12列特征数据\n",
    "x_data = ds[:,:12]\n",
    "\n",
    "#y_data为最后一列数据\n",
    "y_data = ds[:,12]\n",
    "\n",
    "for i in range(12):\n",
    "    x_data[:,i]=(x_data[:,i]-x_data[:,i].min())/(x_data[:,i].max()-x_data[:,i].min())\n",
    "\n",
    "print('x_data shape=',x_data.shape)\n",
    "print('y_data shape=',y_data.shape)\n",
    "\n",
    "train_num = 300   #训练集数目\n",
    "valid_num = 100   #验证集数目\n",
    "test_num = len(x_data)-train_num-valid_num   #测试集数目\n",
    "\n",
    "#训练集划分\n",
    "x_train = x_data[:train_num]\n",
    "y_train = y_data[:train_num]\n",
    "\n",
    "#验证集划分\n",
    "x_valid = x_data[train_num:train_num+valid_num]\n",
    "y_valid = y_data[train_num:train_num+valid_num]\n",
    "\n",
    "#测试集划分\n",
    "x_test = x_data[train_num+valid_num:train_num+valid_num+test_num]\n",
    "y_test = y_data[train_num+valid_num:train_num+valid_num+test_num]\n",
    "\n",
    "x_train = tf.cast(scale(x_train),dtype=tf.float32)\n",
    "x_valid = tf.cast(scale(x_valid),dtype=tf.float32)\n",
    "x_test = tf.cast(scale(x_test),dtype=tf.float32)\n",
    "\n",
    "def model(x,w,b):\n",
    "    return tf.matmul(x,w)+b\n",
    "\n",
    "W=tf.Variable(tf.random.normal([12,1],mean=0.0,stddev=1.0,dtype=tf.float32))\n",
    "B=tf.Variable(tf.zeros(1),dtype=tf.float32)\n",
    "\n",
    "print(W)\n",
    "print(B)\n",
    "\n",
    "training_epochs = 50 #迭代次数\n",
    "learning_rate = 0.001 #学习率\n",
    "batch_size = 10 #批量训练一次的样本数\n",
    "\n",
    "#采用均方差作为损失函数\n",
    "def loss(x,y,w,b):\n",
    "    err = model(x,w,b) - y\n",
    "    squared_err = tf.square(err)\n",
    "    return tf.reduce_mean(squared_err) #均方差\n",
    "\n",
    "#计算样本数据[x,y]在参数[w,b]点上的梯度\n",
    "def grad(x,y,w,b):\n",
    "    with tf.GradientTape() as tape:\n",
    "        loss_ = loss(x,y,w,b)\n",
    "    return tape.gradient(loss_, [w,b]) #返回梯度向量\n",
    "\n",
    "optimizer = tf.keras.optimizers.SGD(learning_rate) #创建优化器，指定学习率\n",
    "\n",
    "loss_list_train = [] #用于保存训练集loss值的列表\n",
    "loss_list_valid = [] #用于保存验证集loss值的列表\n",
    "total_step = int(train_num/batch_size)\n",
    "\n",
    "for epoch in range (training_epochs):\n",
    "    for step in range(total_step):\n",
    "        xs = x_train[step*batch_size:(step+1)*batch_size,:]\n",
    "        ys = y_train[step*batch_size:(step+1)*batch_size]\n",
    "        \n",
    "        grads = grad(xs,ys,W,B)\n",
    "        optimizer.apply_gradients(zip(grads,[W,B])) \n",
    "        \n",
    "    loss_train = loss(x_train, y_train, W, B).numpy()\n",
    "    loss_valid = loss(x_valid, y_valid, W, B).numpy()\n",
    "    loss_list_train.append(loss_train)\n",
    "    loss_list_valid.append(loss_valid)\n",
    "    print(\"epoch={:3d} ,train_loss={:.4f},valid_loss={:.4f}\".format(epoch+1,loss_train,loss_valid))\n",
    "\n"
   ]
  },
  {
   "cell_type": "code",
   "execution_count": 2,
   "metadata": {},
   "outputs": [
    {
     "data": {
      "text/plain": [
       "<matplotlib.legend.Legend at 0x21aea137f88>"
      ]
     },
     "execution_count": 2,
     "metadata": {},
     "output_type": "execute_result"
    },
    {
     "data": {
      "image/png": "[encoded data removed]",
      "text/plain": [
       "<Figure size 432x288 with 1 Axes>"
      ]
     },
     "metadata": {
      "needs_background": "light"
     },
     "output_type": "display_data"
    }
   ],
   "source": [
    "plt.xlabel(\"Epochs\")\n",
    "plt.ylabel(\"Loss\")\n",
    "plt.plot(loss_list_train,'blue',label=\"Train loss\")\n",
    "plt.plot(loss_list_valid,'red',label=\"Valid loss\")\n",
    "plt.legend(loc=1)"
   ]
  },
  {
   "cell_type": "code",
   "execution_count": 3,
   "metadata": {},
   "outputs": [
    {
     "name": "stdout",
     "output_type": "stream",
     "text": [
      "Test_loss:112.9695\n"
     ]
    }
   ],
   "source": [
    "print(\"Test_loss:{:.4f}\".format(loss(x_test,y_test,W,B).numpy()))"
   ]
  },
  {
   "cell_type": "code",
   "execution_count": null,
   "metadata": {},
   "outputs": [],
   "source": []
  },
  {
   "cell_type": "code",
   "execution_count": 7,
   "metadata": {},
   "outputs": [
    {
     "name": "stdout",
     "output_type": "stream",
     "text": [
      "House id 7 Actual value 27.9 Predicted value 24.270056\n"
     ]
    }
   ],
   "source": [
    "test_house_id = np.random.randint(0,test_num)\n",
    "y = y_test[test_house_id]\n",
    "y_pred = model(x_test,W,B)[test_house_id]\n",
    "y_predit = tf.reshape(y_pred,()).numpy()\n",
    "print(\"House id\",test_house_id,\"Actual value\",y,\"Predicted value\",y_predit)"
   ]
  },
  {
   "cell_type": "code",
   "execution_count": null,
   "metadata": {},
   "outputs": [],
   "source": []
  },
  {
   "cell_type": "code",
   "execution_count": null,
   "metadata": {},
   "outputs": [],
   "source": []
  }
 ],
 "metadata": {
  "kernelspec": {
   "display_name": "Python 3",
   "language": "python",
   "name": "python3"
  },
  "language_info": {
   "codemirror_mode": {
    "name": "ipython",
    "version": 3
   },
   "file_extension": ".py",
   "mimetype": "text/x-python",
   "name": "python",
   "nbconvert_exporter": "python",
   "pygments_lexer": "ipython3",
   "version": "3.7.4"
  }
 },
 "nbformat": 4,
 "nbformat_minor": 2
}
